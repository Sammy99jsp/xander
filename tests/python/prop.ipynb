{
 "cells": [
  {
   "cell_type": "code",
   "execution_count": null,
   "metadata": {},
   "outputs": [],
   "source": []
  },
  {
   "cell_type": "code",
   "execution_count": null,
   "metadata": {},
   "outputs": [],
   "source": [
    "from xander.engine import dice\n",
    "from xander.engine.damage import Damage, DamageCause, Fire, Cold\n",
    "\n",
    "dice.set_seed(0)\n",
    "damage = Fire(\"2d6\", cause=DamageCause.UNKNOWN)\n",
    "damage += Cold(\"12d6\", cause=DamageCause.UNKNOWN)\n",
    "damage"
   ]
  },
  {
   "cell_type": "code",
   "execution_count": null,
   "metadata": {},
   "outputs": [],
   "source": [
    "sgn = lambda x: -1 if x < 0 else 1\n",
    "def omni_distance(x: int, y: int) -> tuple[int, int, int]:\n",
    "    c = min(abs(x), abs(y))\n",
    "    a = sgn(x) * (x - sgn(x) * c)\n",
    "    b = sgn(y) * (y - sgn(y) * c)\n",
    "\n",
    "    return (a, b, c)"
   ]
  },
  {
   "cell_type": "code",
   "execution_count": 1,
   "metadata": {},
   "outputs": [],
   "source": [
    "import typing\n",
    "from xander.engine.combat.action.attack import Attack\n",
    "from xander.engine.combat.turn import Turn\n",
    "from xander.engine.legality import Legality\n",
    "from xander.engine.combat import Combatant\n",
    "\n",
    "from random import choice\n",
    "\n",
    "class RandomAgent:\n",
    "    combatant: Combatant\n",
    "    attacks: list[Attack]\n",
    "\n",
    "    def __init__(self, combatant: Combatant):\n",
    "        self.combatant = combatant\n",
    "        self.attacks = [action.as_attack() for action in combatant.stats.actions()]\n",
    "\n",
    "    def hook(self, turn: Turn) -> \"Legality[typing.Any]\":\n",
    "        l_directions = turn.possible_directions()\n",
    "        \n",
    "        if l_directions.is_illegal():\n",
    "            return turn.end()\n",
    "        \n",
    "        directions = l_directions.inner()\n",
    "\n",
    "        if len(directions) == 0:\n",
    "            return turn.end()\n",
    "\n",
    "        move = choice(directions)\n",
    "        print(move)\n",
    "        return turn.move(move)\n",
    "\n",
    "class Agent:\n",
    "    combatant: Combatant\n",
    "    attacks: list[Attack]\n",
    "\n",
    "    def __init__(self, combatant: Combatant):\n",
    "        self.combatant = combatant\n",
    "        self.attacks = [action.as_attack() for action in combatant.stats.actions()]\n",
    "\n",
    "    def hook(self, turn: Turn) -> \"Legality[typing.Any]\":\n",
    "        to_do = input(f\"{self.combatant.name}: _A_ttack / _M_ove / _E_nd: \")\n",
    "\n",
    "        match to_do:\n",
    "            case \"M\":\n",
    "                x, y, z = map(float, input(\"Delta: \").split(\", \"))\n",
    "                return turn.move((x, y, z))\n",
    "\n",
    "            case \"A\":\n",
    "                x, y, z = map(float, input(\"Absolute Target: \").split(\", \"))\n",
    "\n",
    "                return turn.attack(self.attacks[0], (x, y, z))\n",
    "                    \n",
    "            case \"E\":\n",
    "                return turn.end()\n",
    "            \n",
    "            case \"\":\n",
    "                raise Exception()"
   ]
  },
  {
   "cell_type": "code",
   "execution_count": 3,
   "metadata": {},
   "outputs": [
    {
     "data": {
      "text/html": [
       "<div style=\"border: 1px solid black;\">\n",
       "                            <div class=\"header\" style=\"padding: 0.25em 1em 0.5em 1em; border-bottom: 1px solid black; font-weight: bold;\">RA1 attacks RA2</em></div>\n",
       "                            <div class=\"attack-body\" style=\"padding: 1em; display: grid; grid-template-columns: max-content 1fr; gap: 0.5em 1em; font-size: 80%;\">\n",
       "                                <span>Weapon</span><span>Bite</span>\n",
       "                                <span>To Hit</span><span><code>19 + 0</code> Hit</span>\n",
       "                                <span>Damage</span><span>1 PIERCING &rarr; 1 PIERCING</span>\n",
       "                            </div>\n",
       "                        </div>"
      ],
      "text/plain": [
       "Hit { attacker: (Weak), attack: Melee(MeleeAttackAction { name: \"Bite\", description: \"\", to_hit: Constant(0), range: Reach, target: Single, damage: [(Constant(1), DamageTypeMeta { name: \"PIERCING\", description: \"Puncturing and impaling attacks, including spears and monsters' bites, deal piercing damage.\", index: 8 })] }), target: (Weak), to_hit: AttackRoll(Add(Roll([19]), Modifier(0))), damage: Damage([DamagePart { damage_type: DamageTypeMeta { name: \"PIERCING\", description: \"Puncturing and impaling attacks, including spears and monsters' bites, deal piercing damage.\", index: 8 }, amount: Modifier(1), cause: DamageCause { actor: Entity((Weak)), source: DamageSource }, handling: DamageHandling { resistance: false, vulnerability: false, immunity: false } }]) }"
      ]
     },
     "metadata": {},
     "output_type": "display_data"
    },
    {
     "data": {
      "text/html": [
       "<div style=\"display: grid; grid-template-columns: max-content max-content max-content max-content; gap: 4px 1em; margin: 0 25vw;\">\n",
       "        <span style=\"font-weight: bold;\"></span>\n",
       "        <span style=\"font-weight: bold;\">Initiative</span>\n",
       "        <span style=\"font-weight: bold;\">Name</span>\n",
       "        <span style=\"font-weight: bold;\">Health</span><span style=\"font-weight: bold;\">★</span>\n",
       "                <span>19</span>\n",
       "                <span>RA1</span>\n",
       "                <span>1 / 1 HP</span><span style=\"font-weight: bold;\">💀</span>\n",
       "                <span>11</span>\n",
       "                <span>RA2</span>\n",
       "                <span>0 / 1 HP</span></div>"
      ],
      "text/plain": [
       "Combat(2 members)"
      ]
     },
     "metadata": {},
     "output_type": "display_data"
    },
    {
     "data": {
      "text/html": [
       "<div style=\"width: 50vw; margin: auto;\"><img src=\"data:image/png;base64,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\" alt=\"Xander Grid Preview\"></div>"
      ],
      "text/plain": [
       "Arena"
      ]
     },
     "metadata": {},
     "output_type": "display_data"
    }
   ],
   "source": [
    "import time\n",
    "from IPython.display import display, clear_output\n",
    "from xander.engine import dice\n",
    "from xander.engine.combat import Combat\n",
    "from xander.engine.combat.arena import Simple\n",
    "from xander.engine.actors import Stats\n",
    "\n",
    "\n",
    "dice.random_seed()\n",
    "combat = Combat(Simple(25, 25))\n",
    "\n",
    "ra1 = combat.join(Stats.from_json(\"../rat.json\"), \"RA1\", (0.0, 0.0, 0.0))\n",
    "user = Agent(ra1)\n",
    "combat.set_combatant_hook(user.combatant, hook=user.hook)\n",
    "\n",
    "ra2 = combat.join(Stats.from_json(\"../rat.json\"), \"RA2\", (5.0, 0.0, 0.0))\n",
    "bot = RandomAgent(ra2)\n",
    "combat.set_combatant_hook(bot.combatant, hook=bot.hook)\n",
    "\n",
    "display(combat)\n",
    "display(combat.arena)\n",
    "l: \"Legality[typing.Any] | None\" = None\n",
    "while not (ra1.stats.dead or ra2.stats.dead):\n",
    "    if combat.current.name == user.combatant.name:\n",
    "        clear_output()\n",
    "        display(l)\n",
    "        display(combat)\n",
    "        display(combat.arena)\n",
    "        time.sleep(0.1)\n",
    "\n",
    "    l = combat.step()\n",
    "    \n",
    "clear_output()\n",
    "display(l)\n",
    "display(combat)\n",
    "display(combat.arena)\n"
   ]
  },
  {
   "cell_type": "code",
   "execution_count": 3,
   "metadata": {},
   "outputs": [
    {
     "data": {
      "text/plain": [
       "(25.0, 10.0, 0.0)"
      ]
     },
     "execution_count": 3,
     "metadata": {},
     "output_type": "execute_result"
    }
   ],
   "source": [
    "bot.combatant.position"
   ]
  },
  {
   "cell_type": "code",
   "execution_count": null,
   "metadata": {},
   "outputs": [],
   "source": []
  }
 ],
 "metadata": {
  "kernelspec": {
   "display_name": ".venv",
   "language": "python",
   "name": "python3"
  },
  "language_info": {
   "codemirror_mode": {
    "name": "ipython",
    "version": 3
   },
   "file_extension": ".py",
   "mimetype": "text/x-python",
   "name": "python",
   "nbconvert_exporter": "python",
   "pygments_lexer": "ipython3",
   "version": "3.13.1"
  }
 },
 "nbformat": 4,
 "nbformat_minor": 2
}
