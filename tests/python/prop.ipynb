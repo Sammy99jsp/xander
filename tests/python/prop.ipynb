{
 "cells": [
  {
   "cell_type": "code",
   "execution_count": null,
   "metadata": {},
   "outputs": [],
   "source": []
  },
  {
   "cell_type": "code",
   "execution_count": 6,
   "metadata": {},
   "outputs": [
    {
     "data": {
      "text/html": [
       "\n",
       "    <div class=\"stat-block\" style=\"padding: 1em; border: 1px solid white; width: fit-content;\">\n",
       "        <h1 style=\"font-family: serif; margin-top: 0em; margin-bottom: 0em;\">Rat</h1>\n",
       "        <small><em>small humanoid, any alignment</em></small><br/>\n",
       "        <svg height=\"5\" width=\"100%\" class=\"tapered-rule\">\n",
       "            <polyline points=\"0,0 400,2.5 0,5\" fill=\"white\"></polyline>\n",
       "        </svg><br/>\n",
       "        <span><strong>Armor Class</strong> 10 Natural Armor</span><br/>\n",
       "        <svg height=\"5\" width=\"100%\" class=\"tapered-rule\">\n",
       "            <polyline points=\"0,0 400,2.5 0,5\" fill=\"white\"></polyline>\n",
       "        </svg><br/>\n",
       "        <div style=\"display: grid; grid-template-columns: repeat(6, 1fr); grid-gap: 1em;\">\n",
       "            <div style=\"text-align: center;\"><strong>STR</strong><br>10 (+0)</div>\n",
       "            <div style=\"text-align: center;\"><strong>DEX</strong><br>10 (+0)</div>\n",
       "            <div style=\"text-align: center;\"><strong>CON</strong><br>10 (+0)</div>\n",
       "            <div style=\"text-align: center;\"><strong>INT</strong><br>10 (+0)</div>\n",
       "            <div style=\"text-align: center;\"><strong>WIS</strong><br>10 (+0)</div>\n",
       "            <div style=\"text-align: center;\"><strong>CHA</strong><br>10 (+0)</div>\n",
       "        </div>\n",
       "        <svg height=\"5\" width=\"100%\" class=\"tapered-rule\"> \n",
       "            <polyline points=\"0,0 400,2.5 0,5\" fill=\"white\"></polyline>\n",
       "        </svg>\n",
       "    </div>\n"
      ],
      "text/plain": [
       "<IPython.core.display.HTML object>"
      ]
     },
     "metadata": {},
     "output_type": "display_data"
    }
   ],
   "source": [
    "from IPython.display import display, HTML\n",
    "\n",
    "display(HTML('''\n",
    "    <div class=\"stat-block\" style=\"padding: 1em; border: 1px solid white; width: fit-content;\">\n",
    "        <h1 style=\"font-family: serif; margin-top: 0em; margin-bottom: 0em;\">{0}</h1>\n",
    "        <small><em>{1}, {2}</em></small><br/>\n",
    "        <svg height=\"5\" width=\"100%\" class=\"tapered-rule\">\n",
    "            <polyline points=\"0,0 400,2.5 0,5\" fill=\"white\"></polyline>\n",
    "        </svg><br/>\n",
    "        <span><strong>Armor Class</strong> 10 Natural Armor</span><br/>\n",
    "        <svg height=\"5\" width=\"100%\" class=\"tapered-rule\">\n",
    "            <polyline points=\"0,0 400,2.5 0,5\" fill=\"white\"></polyline>\n",
    "        </svg><br/>\n",
    "        <div style=\"display: grid; grid-template-columns: repeat(6, 1fr); grid-gap: 1em;\">\n",
    "            <div style=\"text-align: center;\"><strong>STR</strong><br>10 (+0)</div>\n",
    "            <div style=\"text-align: center;\"><strong>DEX</strong><br>10 (+0)</div>\n",
    "            <div style=\"text-align: center;\"><strong>CON</strong><br>10 (+0)</div>\n",
    "            <div style=\"text-align: center;\"><strong>INT</strong><br>10 (+0)</div>\n",
    "            <div style=\"text-align: center;\"><strong>WIS</strong><br>10 (+0)</div>\n",
    "            <div style=\"text-align: center;\"><strong>CHA</strong><br>10 (+0)</div>\n",
    "        </div>\n",
    "        <svg height=\"5\" width=\"100%\" class=\"tapered-rule\"> \n",
    "            <polyline points=\"0,0 400,2.5 0,5\" fill=\"white\"></polyline>\n",
    "        </svg>\n",
    "    </div>\n",
    "'''.format(\"Rat\", \"small humanoid\", \"any alignment\")))\n"
   ]
  },
  {
   "cell_type": "code",
   "execution_count": 1,
   "metadata": {},
   "outputs": [
    {
     "data": {
      "text/plain": [
       "True"
      ]
     },
     "execution_count": 1,
     "metadata": {},
     "output_type": "execute_result"
    }
   ],
   "source": [
    "from xander.engine import dice\n",
    "from xander.engine.dice import DExpr, D20, D100\n",
    "\n",
    "dice.set_seed(0)"
   ]
  },
  {
   "cell_type": "code",
   "execution_count": null,
   "metadata": {},
   "outputs": [],
   "source": [
    "from xander.engine import character\n",
    "character.load_from_json(\"rat.json\")"
   ]
  }
 ],
 "metadata": {
  "kernelspec": {
   "display_name": ".venv",
   "language": "python",
   "name": "python3"
  },
  "language_info": {
   "codemirror_mode": {
    "name": "ipython",
    "version": 3
   },
   "file_extension": ".py",
   "mimetype": "text/x-python",
   "name": "python",
   "nbconvert_exporter": "python",
   "pygments_lexer": "ipython3",
   "version": "3.13.1"
  }
 },
 "nbformat": 4,
 "nbformat_minor": 2
}
